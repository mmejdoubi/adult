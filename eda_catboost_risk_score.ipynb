{
 "cells": [
  {
   "cell_type": "code",
   "execution_count": 1,
   "metadata": {},
   "outputs": [],
   "source": [
    "import pandas as pd\n",
    "import numpy as np\n",
    "import matplotlib.pyplot as plt"
   ]
  },
  {
   "cell_type": "code",
   "execution_count": 2,
   "metadata": {},
   "outputs": [],
   "source": [
    "%timeit\n",
    "df = pd.read_csv('features_matrix.csv', index_col='NUM_PERS')"
   ]
  },
  {
   "cell_type": "code",
   "execution_count": 3,
   "metadata": {},
   "outputs": [
    {
     "name": "stdout",
     "output_type": "stream",
     "text": [
      "<class 'pandas.core.frame.DataFrame'>\n",
      "Int64Index: 123460 entries, 15954 to 90630105\n",
      "Columns: 357 entries, mt_M1 to sum_mt_impayes_obs\n",
      "dtypes: float64(206), int64(149), object(2)\n",
      "memory usage: 337.2+ MB\n"
     ]
    }
   ],
   "source": [
    "df.info()"
   ]
  },
  {
   "cell_type": "code",
   "execution_count": 4,
   "metadata": {},
   "outputs": [
    {
     "data": {
      "text/plain": [
       "Index(['mt_M1', 'mt_M2', 'mt_M3', 'sum_bad_debt', 'target_bad',\n",
       "       'AVG_PRELEV_12M', 'AVG_RETR_CHQ_12M', 'AVG_RETR_GAB_12M',\n",
       "       'AVG_ENC_CHQ_12M', 'AVG_PAY_CARTE_LOC_12M',\n",
       "       ...\n",
       "       'cmc_3_6', 'nbjdebut_3_6', 'solde_fdp_3_6', 'solde_moy_3_6', 'cmc_6_12',\n",
       "       'nbjdebut_6_12', 'solde_fdp_6_12', 'solde_moy_6_12',\n",
       "       'sum_nb_impayes_obs', 'sum_mt_impayes_obs'],\n",
       "      dtype='object', length=357)"
      ]
     },
     "execution_count": 4,
     "metadata": {},
     "output_type": "execute_result"
    }
   ],
   "source": [
    "df.columns"
   ]
  },
  {
   "cell_type": "code",
   "execution_count": 5,
   "metadata": {},
   "outputs": [
    {
     "data": {
      "text/plain": [
       "['last_trx_type', 'grp_oper_MODE']"
      ]
     },
     "execution_count": 5,
     "metadata": {},
     "output_type": "execute_result"
    }
   ],
   "source": [
    "features = list(df.columns)\n",
    "\n",
    "numeric_features = []\n",
    "categorical_features = []\n",
    "\n",
    "for dtype, feature in zip(df.dtypes[2:], df.columns[2:]):\n",
    "    if dtype == object:\n",
    "        #print(column)\n",
    "        #print(train_data[column].describe())\n",
    "        categorical_features.append(feature)\n",
    "    else:\n",
    "        numeric_features.append(feature)\n",
    "categorical_features"
   ]
  },
  {
   "cell_type": "code",
   "execution_count": 7,
   "metadata": {},
   "outputs": [],
   "source": [
    "keys = list(df.columns)\n",
    "values = list(df.dtypes)\n",
    "dictionary = dict(zip(keys, values))"
   ]
  },
  {
   "cell_type": "code",
   "execution_count": null,
   "metadata": {},
   "outputs": [],
   "source": [
    "# clean perimetre :\n",
    "clean_df = df[df.sum_mt_impayes_obs]"
   ]
  },
  {
   "cell_type": "code",
   "execution_count": 11,
   "metadata": {},
   "outputs": [
    {
     "data": {
      "text/plain": [
       "<matplotlib.axes._subplots.AxesSubplot at 0x7fcc54a62a58>"
      ]
     },
     "execution_count": 11,
     "metadata": {},
     "output_type": "execute_result"
    },
    {
     "data": {
      "image/png": "[encoded data removed]",
      "text/plain": [
       "<matplotlib.figure.Figure at 0x7fcc54aa96d8>"
      ]
     },
     "metadata": {
      "needs_background": "light"
     },
     "output_type": "display_data"
    }
   ],
   "source": [
    "df.grp_oper_MODE.value_counts(normalize=True).plot(kind='bar')"
   ]
  },
  {
   "cell_type": "code",
   "execution_count": 24,
   "metadata": {},
   "outputs": [],
   "source": [
    "avg_impaye_by_nb = df.groupby('sum_nb_impayes_obs',  as_index=False)['sum_mt_impayes_obs'].agg(['mean','size'])"
   ]
  },
  {
   "cell_type": "code",
   "execution_count": 33,
   "metadata": {},
   "outputs": [],
   "source": [
    "clean_df = df[df['sum_mt_impayes_obs']<= 2000]"
   ]
  },
  {
   "cell_type": "code",
   "execution_count": 34,
   "metadata": {},
   "outputs": [
    {
     "name": "stderr",
     "output_type": "stream",
     "text": [
      "/home/user/anaconda3/lib/python3.6/site-packages/pandas/core/frame.py:3697: SettingWithCopyWarning: \n",
      "A value is trying to be set on a copy of a slice from a DataFrame\n",
      "\n",
      "See the caveats in the documentation: http://pandas.pydata.org/pandas-docs/stable/indexing.html#indexing-view-versus-copy\n",
      "  errors=errors)\n"
     ]
    }
   ],
   "source": [
    "# drop leak colums\n",
    "clean_df.drop(axis=1, columns=['mt_M1', 'mt_M2', 'mt_M3', 'sum_bad_debt', 'sum_nb_impayes_obs', 'sum_mt_impayes_obs'], inplace=True)"
   ]
  },
  {
   "cell_type": "code",
   "execution_count": 36,
   "metadata": {},
   "outputs": [
    {
     "name": "stdout",
     "output_type": "stream",
     "text": [
      "target_bad: 2\n",
      "AVG_PRELEV_12M: 72988\n",
      "AVG_RETR_CHQ_12M: 11519\n",
      "AVG_RETR_GAB_12M: 43651\n",
      "AVG_ENC_CHQ_12M: 21258\n",
      "AVG_PAY_CARTE_LOC_12M: 42910\n",
      "AVG_VERS_ESPC_12M: 13441\n",
      "AVG_VIREMENT_12M: 6435\n",
      "AVG_AUTRES_OPE_12M: 7304\n",
      "AVG_CHANGE_12M: 1254\n",
      "AVG_RETR_ESPC_12M: 7050\n",
      "AVG_ESCOMPTE_12M: 1840\n",
      "AVG_PAY_CARTE_INT_12M: 4033\n",
      "AVG_PRELEV_1M: 41640\n",
      "AVG_RETR_CHQ_1M: 1727\n",
      "AVG_RETR_GAB_1M: 3973\n",
      "AVG_PAY_CARTE_LOC_1M: 19638\n",
      "AVG_ENC_CHQ_1M: 6184\n",
      "AVG_VIREMENT_1M: 1197\n",
      "AVG_ESCOMPTE_1M: 463\n",
      "AVG_VERS_ESPC_1M: 2480\n",
      "AVG_AUTRES_OPE_1M: 1390\n",
      "AVG_RETR_ESPC_1M: 1047\n",
      "AVG_PAY_CARTE_INT_1M: 1350\n",
      "AVG_CHANGE_1M: 129\n",
      "AVG_PRELEV_2M: 46101\n",
      "AVG_RETR_CHQ_2M: 2966\n",
      "AVG_RETR_GAB_2M: 8403\n",
      "AVG_PAY_CARTE_LOC_2M: 26051\n",
      "AVG_VERS_ESPC_2M: 3884\n",
      "AVG_ENC_CHQ_2M: 8867\n",
      "AVG_VIREMENT_2M: 1811\n",
      "AVG_ESCOMPTE_2M: 739\n",
      "AVG_RETR_ESPC_2M: 1760\n",
      "AVG_AUTRES_OPE_2M: 2220\n",
      "AVG_PAY_CARTE_INT_2M: 1988\n",
      "AVG_CHANGE_2M: 239\n",
      "AVG_PRELEV_3M: 48815\n",
      "AVG_RETR_CHQ_3M: 4031\n",
      "AVG_RETR_GAB_3M: 12182\n",
      "AVG_ENC_CHQ_3M: 10872\n",
      "AVG_PAY_CARTE_LOC_3M: 29433\n",
      "AVG_VERS_ESPC_3M: 5000\n",
      "AVG_AUTRES_OPE_3M: 2820\n",
      "AVG_VIREMENT_3M: 2301\n",
      "AVG_ESCOMPTE_3M: 888\n",
      "AVG_RETR_ESPC_3M: 2415\n",
      "AVG_PAY_CARTE_INT_3M: 2353\n",
      "AVG_CHANGE_3M: 336\n",
      "AVG_PRELEV_4M: 59021\n",
      "AVG_RETR_CHQ_4M: 5173\n",
      "AVG_RETR_GAB_4M: 16355\n",
      "AVG_ENC_CHQ_4M: 12805\n",
      "AVG_PAY_CARTE_LOC_4M: 32290\n",
      "AVG_VERS_ESPC_4M: 6246\n",
      "AVG_AUTRES_OPE_4M: 3463\n",
      "AVG_VIREMENT_4M: 2872\n",
      "AVG_ESCOMPTE_4M: 1041\n",
      "AVG_RETR_ESPC_4M: 3076\n",
      "AVG_PAY_CARTE_INT_4M: 2736\n",
      "AVG_CHANGE_4M: 462\n",
      "AVG_PRELEV_5M: 61254\n",
      "AVG_RETR_CHQ_5M: 6080\n",
      "AVG_RETR_GAB_5M: 20607\n",
      "AVG_ENC_CHQ_5M: 14139\n",
      "AVG_PAY_CARTE_LOC_5M: 34866\n",
      "AVG_VERS_ESPC_5M: 7255\n",
      "AVG_AUTRES_OPE_5M: 3912\n",
      "AVG_VIREMENT_5M: 3333\n",
      "AVG_ESCOMPTE_5M: 1174\n",
      "AVG_RETR_ESPC_5M: 3606\n",
      "AVG_PAY_CARTE_INT_5M: 2970\n",
      "AVG_CHANGE_5M: 576\n",
      "AVG_PRELEV_6M: 63849\n",
      "AVG_RETR_CHQ_6M: 6920\n",
      "AVG_RETR_GAB_6M: 24195\n",
      "AVG_ENC_CHQ_6M: 15323\n",
      "AVG_PAY_CARTE_LOC_6M: 36300\n",
      "AVG_VERS_ESPC_6M: 8306\n",
      "AVG_AUTRES_OPE_6M: 4361\n",
      "AVG_VIREMENT_6M: 3939\n",
      "AVG_ESCOMPTE_6M: 1260\n",
      "AVG_RETR_ESPC_6M: 4178\n",
      "AVG_PAY_CARTE_INT_6M: 3188\n",
      "AVG_CHANGE_6M: 668\n",
      "AVG_PRELEV_9M: 68741\n",
      "AVG_RETR_CHQ_9M: 9279\n",
      "AVG_RETR_GAB_9M: 34936\n",
      "AVG_ENC_CHQ_9M: 18340\n",
      "AVG_PAY_CARTE_LOC_9M: 40303\n",
      "AVG_VERS_ESPC_9M: 11086\n",
      "AVG_VIREMENT_9M: 5141\n",
      "AVG_AUTRES_OPE_9M: 5608\n",
      "AVG_ESCOMPTE_9M: 1575\n",
      "AVG_PAY_CARTE_INT_9M: 3721\n",
      "AVG_RETR_ESPC_9M: 5713\n",
      "AVG_CHANGE_9M: 992\n",
      "NB_PRELEV_12M: 197\n",
      "NB_RETR_CHQ_12M: 104\n",
      "NB_RETR_GAB_12M: 451\n",
      "NB_ENC_CHQ_12M: 248\n",
      "NB_PAY_CARTE_LOC_12M: 349\n",
      "NB_VERS_ESPC_12M: 202\n",
      "NB_VIREMENT_12M: 100\n",
      "NB_AUTRES_OPE_12M: 45\n",
      "NB_CHANGE_12M: 14\n",
      "NB_RETR_ESPC_12M: 68\n",
      "NB_ESCOMPTE_12M: 39\n",
      "NB_PAY_CARTE_INT_12M: 101\n",
      "NB_PRELEV_1M: 29\n",
      "NB_RETR_CHQ_1M: 18\n",
      "NB_RETR_GAB_1M: 67\n",
      "NB_PAY_CARTE_LOC_1M: 51\n",
      "NB_ENC_CHQ_1M: 44\n",
      "NB_VIREMENT_1M: 22\n",
      "NB_ESCOMPTE_1M: 8\n",
      "NB_VERS_ESPC_1M: 33\n",
      "NB_AUTRES_OPE_1M: 9\n",
      "NB_RETR_ESPC_1M: 13\n",
      "NB_PAY_CARTE_INT_1M: 30\n",
      "NB_CHANGE_1M: 4\n",
      "NB_PRELEV_2M: 48\n",
      "NB_RETR_CHQ_2M: 30\n",
      "NB_RETR_GAB_2M: 113\n",
      "NB_PAY_CARTE_LOC_2M: 91\n",
      "NB_VERS_ESPC_2M: 57\n",
      "NB_ENC_CHQ_2M: 74\n",
      "NB_VIREMENT_2M: 33\n",
      "NB_ESCOMPTE_2M: 11\n",
      "NB_RETR_ESPC_2M: 21\n",
      "NB_AUTRES_OPE_2M: 15\n",
      "NB_PAY_CARTE_INT_2M: 49\n",
      "NB_CHANGE_2M: 5\n",
      "NB_PRELEV_3M: 63\n",
      "NB_RETR_CHQ_3M: 41\n",
      "NB_RETR_GAB_3M: 148\n",
      "NB_ENC_CHQ_3M: 89\n",
      "NB_PAY_CARTE_LOC_3M: 121\n",
      "NB_VERS_ESPC_3M: 77\n",
      "NB_AUTRES_OPE_3M: 20\n",
      "NB_VIREMENT_3M: 41\n",
      "NB_ESCOMPTE_3M: 13\n",
      "NB_RETR_ESPC_3M: 28\n",
      "NB_PAY_CARTE_INT_3M: 57\n",
      "NB_CHANGE_3M: 6\n",
      "NB_PRELEV_4M: 83\n",
      "NB_RETR_CHQ_4M: 47\n",
      "NB_RETR_GAB_4M: 188\n",
      "NB_ENC_CHQ_4M: 123\n",
      "NB_PAY_CARTE_LOC_4M: 151\n",
      "NB_VERS_ESPC_4M: 94\n",
      "NB_AUTRES_OPE_4M: 23\n",
      "NB_VIREMENT_4M: 52\n",
      "NB_ESCOMPTE_4M: 18\n",
      "NB_RETR_ESPC_4M: 35\n",
      "NB_PAY_CARTE_INT_4M: 65\n",
      "NB_CHANGE_4M: 7\n",
      "NB_PRELEV_5M: 98\n",
      "NB_RETR_CHQ_5M: 59\n",
      "NB_RETR_GAB_5M: 226\n",
      "NB_ENC_CHQ_5M: 136\n",
      "NB_PAY_CARTE_LOC_5M: 179\n",
      "NB_VERS_ESPC_5M: 112\n",
      "NB_AUTRES_OPE_5M: 27\n",
      "NB_VIREMENT_5M: 60\n",
      "NB_ESCOMPTE_5M: 20\n",
      "NB_RETR_ESPC_5M: 38\n",
      "NB_PAY_CARTE_INT_5M: 71\n",
      "NB_CHANGE_5M: 9\n",
      "NB_PRELEV_6M: 111\n",
      "NB_RETR_CHQ_6M: 64\n",
      "NB_RETR_GAB_6M: 261\n",
      "NB_ENC_CHQ_6M: 160\n",
      "NB_PAY_CARTE_LOC_6M: 208\n",
      "NB_VERS_ESPC_6M: 122\n",
      "NB_AUTRES_OPE_6M: 31\n",
      "NB_VIREMENT_6M: 63\n",
      "NB_ESCOMPTE_6M: 23\n",
      "NB_RETR_ESPC_6M: 44\n",
      "NB_PAY_CARTE_INT_6M: 77\n",
      "NB_CHANGE_6M: 10\n",
      "NB_PRELEV_9M: 157\n",
      "NB_RETR_CHQ_9M: 85\n",
      "NB_RETR_GAB_9M: 354\n",
      "NB_ENC_CHQ_9M: 200\n",
      "NB_PAY_CARTE_LOC_9M: 280\n",
      "NB_VERS_ESPC_9M: 161\n",
      "NB_VIREMENT_9M: 79\n",
      "NB_AUTRES_OPE_9M: 38\n",
      "NB_ESCOMPTE_9M: 31\n",
      "NB_PAY_CARTE_INT_9M: 88\n",
      "NB_RETR_ESPC_9M: 58\n",
      "NB_CHANGE_9M: 13\n",
      "SUM_PRELEV_12M: 71732\n",
      "SUM_RETR_CHQ_12M: 7301\n",
      "SUM_RETR_GAB_12M: 3751\n",
      "SUM_ENC_CHQ_12M: 20274\n",
      "SUM_PAY_CARTE_LOC_12M: 41852\n",
      "SUM_VERS_ESPC_12M: 9208\n",
      "SUM_VIREMENT_12M: 5131\n",
      "SUM_AUTRES_OPE_12M: 7316\n",
      "SUM_CHANGE_12M: 1256\n",
      "SUM_RETR_ESPC_12M: 4148\n",
      "SUM_ESCOMPTE_12M: 1852\n",
      "SUM_PAY_CARTE_INT_12M: 4027\n",
      "SUM_PRELEV_1M: 40944\n",
      "SUM_RETR_CHQ_1M: 1431\n",
      "SUM_RETR_GAB_1M: 730\n",
      "SUM_PAY_CARTE_LOC_1M: 19203\n",
      "SUM_ENC_CHQ_1M: 6025\n",
      "SUM_VIREMENT_1M: 1108\n",
      "SUM_ESCOMPTE_1M: 464\n",
      "SUM_VERS_ESPC_1M: 2094\n",
      "SUM_AUTRES_OPE_1M: 1391\n",
      "SUM_RETR_ESPC_1M: 853\n",
      "SUM_PAY_CARTE_INT_1M: 1349\n",
      "SUM_CHANGE_1M: 130\n",
      "SUM_PRELEV_2M: 45590\n",
      "SUM_RETR_CHQ_2M: 2313\n",
      "SUM_RETR_GAB_2M: 1106\n",
      "SUM_PAY_CARTE_LOC_2M: 25447\n",
      "SUM_VERS_ESPC_2M: 3113\n",
      "SUM_ENC_CHQ_2M: 8598\n",
      "SUM_VIREMENT_2M: 1624\n",
      "SUM_ESCOMPTE_2M: 746\n",
      "SUM_RETR_ESPC_2M: 1327\n",
      "SUM_AUTRES_OPE_2M: 2222\n",
      "SUM_PAY_CARTE_INT_2M: 1980\n",
      "SUM_CHANGE_2M: 240\n",
      "SUM_PRELEV_3M: 48651\n",
      "SUM_RETR_CHQ_3M: 2942\n",
      "SUM_RETR_GAB_3M: 1391\n",
      "SUM_ENC_CHQ_3M: 10460\n",
      "SUM_PAY_CARTE_LOC_3M: 28744\n",
      "SUM_VERS_ESPC_3M: 3930\n",
      "SUM_AUTRES_OPE_3M: 2825\n",
      "SUM_VIREMENT_3M: 2073\n",
      "SUM_ESCOMPTE_3M: 899\n",
      "SUM_RETR_ESPC_3M: 1703\n",
      "SUM_PAY_CARTE_INT_3M: 2354\n",
      "SUM_CHANGE_3M: 337\n",
      "SUM_PRELEV_4M: 56893\n",
      "SUM_RETR_CHQ_4M: 3661\n",
      "SUM_RETR_GAB_4M: 1696\n",
      "SUM_ENC_CHQ_4M: 12315\n",
      "SUM_PAY_CARTE_LOC_4M: 31496\n",
      "SUM_VERS_ESPC_4M: 4713\n",
      "SUM_AUTRES_OPE_4M: 3464\n",
      "SUM_VIREMENT_4M: 2483\n",
      "SUM_ESCOMPTE_4M: 1053\n",
      "SUM_RETR_ESPC_4M: 2080\n",
      "SUM_PAY_CARTE_INT_4M: 2739\n",
      "SUM_CHANGE_4M: 463\n",
      "SUM_PRELEV_5M: 59055\n",
      "SUM_RETR_CHQ_5M: 4191\n",
      "SUM_RETR_GAB_5M: 1997\n",
      "SUM_ENC_CHQ_5M: 13580\n",
      "SUM_PAY_CARTE_LOC_5M: 33967\n",
      "SUM_VERS_ESPC_5M: 5395\n",
      "SUM_AUTRES_OPE_5M: 3917\n",
      "SUM_VIREMENT_5M: 2802\n",
      "SUM_ESCOMPTE_5M: 1179\n",
      "SUM_RETR_ESPC_5M: 2355\n",
      "SUM_PAY_CARTE_INT_5M: 2972\n",
      "SUM_CHANGE_5M: 578\n",
      "SUM_PRELEV_6M: 62254\n",
      "SUM_RETR_CHQ_6M: 4710\n",
      "SUM_RETR_GAB_6M: 2265\n",
      "SUM_ENC_CHQ_6M: 14644\n",
      "SUM_PAY_CARTE_LOC_6M: 35469\n",
      "SUM_VERS_ESPC_6M: 6036\n",
      "SUM_AUTRES_OPE_6M: 4372\n",
      "SUM_VIREMENT_6M: 3309\n",
      "SUM_ESCOMPTE_6M: 1277\n",
      "SUM_RETR_ESPC_6M: 2661\n",
      "SUM_PAY_CARTE_INT_6M: 3181\n",
      "SUM_CHANGE_6M: 670\n",
      "SUM_PRELEV_9M: 67489\n",
      "SUM_RETR_CHQ_9M: 6010\n",
      "SUM_RETR_GAB_9M: 3076\n",
      "SUM_ENC_CHQ_9M: 17480\n",
      "SUM_PAY_CARTE_LOC_9M: 39366\n",
      "SUM_VERS_ESPC_9M: 7754\n",
      "SUM_VIREMENT_9M: 4234\n",
      "SUM_AUTRES_OPE_9M: 5617\n",
      "SUM_ESCOMPTE_9M: 1595\n",
      "SUM_PAY_CARTE_INT_9M: 3718\n",
      "SUM_RETR_ESPC_9M: 3434\n",
      "SUM_CHANGE_9M: 994\n",
      "last_trx_type: 13\n",
      "RECENCY_PRELEV: 13\n",
      "RECENCY_RETR_CHQ: 13\n",
      "RECENCY_RETR_GAB: 13\n",
      "RECENCY_ENC_CHQ: 13\n",
      "RECENCY_PAY_CARTE_LOC: 13\n",
      "RECENCY_VERS_ESPC: 13\n",
      "RECENCY_VIREMENT: 13\n",
      "RECENCY_AUTRES_OPE: 13\n",
      "RECENCY_CHANGE: 13\n",
      "RECENCY_RETR_ESPC: 13\n",
      "RECENCY_ESCOMPTE: 13\n",
      "RECENCY_PAY_CARTE_INT: 13\n",
      "grp_oper_MODE: 12\n",
      "VAR_TYPES_M1: 11\n",
      "VAR_TYPES_M2: 10\n",
      "VAR_TYPES_M3: 11\n",
      "VAR_TYPES_M4: 12\n",
      "VAR_TYPES_M5: 11\n",
      "VAR_TYPES_M6: 11\n",
      "VAR_TYPES_M7: 10\n",
      "VAR_TYPES_M8: 11\n",
      "VAR_TYPES_M9: 11\n",
      "VAR_TYPES_M10: 12\n",
      "VAR_TYPES_M11: 11\n",
      "VAR_TYPES_M12: 11\n",
      "nbj6_PRELEV: 50\n",
      "nbj6_RETR_CHQ: 55\n",
      "nbj6_RETR_GAB: 168\n",
      "nbj6_ENC_CHQ: 97\n",
      "nbj6_PAY_CARTE_LOC: 129\n",
      "nbj6_VERS_ESPC: 101\n",
      "nbj6_AUTRES_OPE: 22\n",
      "nbj6_VIREMENT: 36\n",
      "nbj6_ESCOMPTE: 17\n",
      "nbj6_RETR_ESPC: 43\n",
      "nbj6_PAY_CARTE_INT: 44\n",
      "nbj6_CHANGE: 9\n",
      "nbj12_PRELEV: 87\n",
      "nbj12_RETR_CHQ: 90\n",
      "nbj12_RETR_GAB: 311\n",
      "nbj12_ENC_CHQ: 170\n",
      "nbj12_PAY_CARTE_LOC: 225\n",
      "nbj12_VERS_ESPC: 168\n",
      "nbj12_VIREMENT: 63\n",
      "nbj12_AUTRES_OPE: 34\n",
      "nbj12_CHANGE: 10\n",
      "nbj12_RETR_ESPC: 66\n",
      "nbj12_ESCOMPTE: 29\n",
      "nbj12_PAY_CARTE_INT: 60\n",
      "cmc_0_3: 45072\n",
      "nbjdebut_0_3: 32\n",
      "solde_fdp_0_3: 58442\n",
      "solde_moy_0_3: 62446\n",
      "cmc_3_6: 45256\n",
      "nbjdebut_3_6: 32\n",
      "solde_fdp_3_6: 57561\n",
      "solde_moy_3_6: 61063\n",
      "cmc_6_12: 60006\n",
      "nbjdebut_6_12: 32\n",
      "solde_fdp_6_12: 72424\n",
      "solde_moy_6_12: 75326\n"
     ]
    }
   ],
   "source": [
    "for col in clean_df.columns:\n",
    "    print(\"{}: {}\".format(col, len(clean_df[col].unique())))"
   ]
  },
  {
   "cell_type": "code",
   "execution_count": 38,
   "metadata": {},
   "outputs": [
    {
     "data": {
      "text/plain": [
       "array([[<matplotlib.axes._subplots.AxesSubplot object at 0x7fcc1fb31e80>,\n",
       "        <matplotlib.axes._subplots.AxesSubplot object at 0x7fcc1fa73be0>],\n",
       "       [<matplotlib.axes._subplots.AxesSubplot object at 0x7fcc1fa2c908>,\n",
       "        <matplotlib.axes._subplots.AxesSubplot object at 0x7fcbf42dd978>],\n",
       "       [<matplotlib.axes._subplots.AxesSubplot object at 0x7fcbf4297898>,\n",
       "        <matplotlib.axes._subplots.AxesSubplot object at 0x7fcbf42978d0>],\n",
       "       [<matplotlib.axes._subplots.AxesSubplot object at 0x7fcbf4266b38>,\n",
       "        <matplotlib.axes._subplots.AxesSubplot object at 0x7fcbf423d3c8>],\n",
       "       [<matplotlib.axes._subplots.AxesSubplot object at 0x7fcbf41f3898>,\n",
       "        <matplotlib.axes._subplots.AxesSubplot object at 0x7fcbf41ab908>]],\n",
       "      dtype=object)"
      ]
     },
     "execution_count": 38,
     "metadata": {},
     "output_type": "execute_result"
    },
    {
     "data": {
      "image/png": "[encoded data removed]",
      "text/plain": [
       "<matplotlib.figure.Figure at 0x7fcc1fb31748>"
      ]
     },
     "metadata": {
      "needs_background": "light"
     },
     "output_type": "display_data"
    }
   ],
   "source": [
    "clean_df[['AVG_PRELEV_12M', 'NB_PRELEV_2M']].hist(bins='auto', figsize=(18, 22), layout=(5, 2))"
   ]
  },
  {
   "cell_type": "code",
   "execution_count": 40,
   "metadata": {},
   "outputs": [
    {
     "data": {
      "text/plain": [
       "0.03718450786036838"
      ]
     },
     "execution_count": 40,
     "metadata": {},
     "output_type": "execute_result"
    }
   ],
   "source": [
    "(clean_df[\"target_bad\"] == 1).sum() / (clean_df[\"target_bad\"] == 0).sum()"
   ]
  },
  {
   "cell_type": "code",
   "execution_count": 41,
   "metadata": {},
   "outputs": [
    {
     "data": {
      "text/plain": [
       "0.035851391510925236"
      ]
     },
     "execution_count": 41,
     "metadata": {},
     "output_type": "execute_result"
    }
   ],
   "source": [
    "clean_df['target_bad'].mean()"
   ]
  },
  {
   "cell_type": "code",
   "execution_count": null,
   "metadata": {},
   "outputs": [],
   "source": []
  }
 ],
 "metadata": {
  "kernelspec": {
   "display_name": "Python 3",
   "language": "python",
   "name": "python3"
  },
  "language_info": {
   "codemirror_mode": {
    "name": "ipython",
    "version": 3
   },
   "file_extension": ".py",
   "mimetype": "text/x-python",
   "name": "python",
   "nbconvert_exporter": "python",
   "pygments_lexer": "ipython3",
   "version": "3.6.6"
  }
 },
 "nbformat": 4,
 "nbformat_minor": 2
}
