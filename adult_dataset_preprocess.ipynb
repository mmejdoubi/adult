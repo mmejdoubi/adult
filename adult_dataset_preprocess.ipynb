{
 "cells": [
  {
   "cell_type": "code",
   "execution_count": 41,
   "metadata": {},
   "outputs": [
    {
     "name": "stdout",
     "output_type": "stream",
     "text": [
      "====================\n",
      "DATASET INFORMATION\n",
      "<class 'pandas.core.frame.DataFrame'>\n",
      "RangeIndex: 32561 entries, 0 to 32560\n",
      "Data columns (total 15 columns):\n",
      "age               32561 non-null int64\n",
      "workclass         32561 non-null object\n",
      "fnlwgt            32561 non-null int64\n",
      "education         32561 non-null object\n",
      "education.num     32561 non-null int64\n",
      "marital.status    32561 non-null object\n",
      "occupation        32561 non-null object\n",
      "relationship      32561 non-null object\n",
      "race              32561 non-null object\n",
      "sex               32561 non-null object\n",
      "capital.gain      32561 non-null int64\n",
      "capital.loss      32561 non-null int64\n",
      "hours.per.week    32561 non-null int64\n",
      "native.country    32561 non-null object\n",
      "income            32561 non-null object\n",
      "dtypes: int64(6), object(9)\n",
      "memory usage: 3.7+ MB\n",
      "====================\n",
      "Nouvelle var => CATEG_workclass\n",
      "Nouvelle var => CATEG_education\n",
      "Nouvelle var => CATEG_marital.status\n",
      "Nouvelle var => CATEG_occupation\n",
      "Nouvelle var => CATEG_relationship\n",
      "Nouvelle var => CATEG_race\n",
      "Nouvelle var => CATEG_sex\n",
      "Nouvelle var => CATEG_native.country\n",
      "Nouvelle var => CATEG_income\n",
      "====================\n",
      "CATEGORICAL VARS\n",
      "====================\n",
      "CATEG_workclass\t \n",
      "CATEG_education\t \n",
      "CATEG_marital.status\t \n",
      "CATEG_occupation\t \n",
      "CATEG_relationship\t \n",
      "CATEG_race\t \n",
      "CATEG_sex\t \n",
      "CATEG_native.country\t \n",
      "CATEG_income\n",
      "====================\n",
      "NUMERIC VARS\n",
      "====================\n",
      "age\t \n",
      "fnlwgt\t \n",
      "education.num\t \n",
      "capital.gain\t \n",
      "capital.loss\t \n",
      "hours.per.week\n",
      "====================\n",
      "CREATION BINARY VAR TARGET\n",
      "====================\n",
      "[<=50K, >50K]\n",
      "Categories (2, object): [<=50K, >50K]\n",
      "['age', 'workclass', 'fnlwgt', 'education', 'education.num', 'marital.status', 'occupation', 'relationship', 'race', 'sex', 'capital.gain', 'capital.loss', 'hours.per.week', 'native.country', 'CATEG_workclass', 'CATEG_education', 'CATEG_marital.status', 'CATEG_occupation', 'CATEG_relationship', 'CATEG_race', 'CATEG_sex', 'CATEG_native.country', 'target']\n"
     ]
    }
   ],
   "source": [
    "# -*- coding: utf-8 -*-\n",
    "\"\"\"\n",
    "Adult dataset EDA\n",
    "\"\"\"\n",
    "import pandas as pd\n",
    "import numpy as np\n",
    "import seaborn as sns\n",
    "import matplotlib as mpl\n",
    "from matplotlib.colors import LinearSegmentedColormap\n",
    "from matplotlib.lines import Line2D \n",
    "\n",
    "df = pd.read_csv('C:\\\\Tools\\\\python_lab\\\\adult\\\\adult.csv', engine='python')\n",
    "print(\"=\"*20)\n",
    "print(\"DATASET INFORMATION\")\n",
    "df.info()\n",
    "print(\"=\"*20)\n",
    "\n",
    "#LIST OF CATEGORICAL VARIABLES\n",
    "col_list = list(df.columns)\n",
    "categ_list = []\n",
    "num_list = []\n",
    "\n",
    "for col in col_list:\n",
    "    if df[col].dtype == 'object' :\n",
    "        new_var_name = 'CATEG_'+df[col].name\n",
    "        print(\"Nouvelle var => \" + new_var_name)\n",
    "        df[new_var_name] = df[col].astype('category')\n",
    "        df.drop(df[col].name, axis=1)\n",
    "        categ_list.append(new_var_name)\n",
    "    else:\n",
    "        num_list.append(df[col].name)\n",
    "\n",
    "print(\"=\"*20)\n",
    "print(\"CATEGORICAL VARS\")\n",
    "print(\"=\"*20)\n",
    "print(\"\\t \\n\".join(categ_list))\n",
    "\n",
    "print(\"=\"*20)\n",
    "print(\"NUMERIC VARS\")\n",
    "print(\"=\"*20)\n",
    "print(\"\\t \\n\".join(num_list))\n",
    "\n",
    "print(\"=\"*20)\n",
    "print(\"CREATION BINARY VAR TARGET\")\n",
    "print(\"=\"*20)\n",
    "print(df['CATEG_income'].unique())\n",
    "df['target'] = (df['CATEG_income'] == '>50K').astype(int)\n",
    "#on drop les vars target\n",
    "df.drop(['income', 'CATEG_income'], axis=1, inplace=True)\n",
    "categ_list.remove('CATEG_income')\n",
    "print(list(df.columns))"
   ]
  },
  {
   "cell_type": "code",
   "execution_count": 42,
   "metadata": {},
   "outputs": [],
   "source": [
    "#numpy array representation des vecteurs X, Y\n",
    "\n",
    "numpy_X = df.as_matrix(columns=num_list)"
   ]
  },
  {
   "cell_type": "code",
   "execution_count": 44,
   "metadata": {},
   "outputs": [
    {
     "name": "stdout",
     "output_type": "stream",
     "text": [
      "['CATEG_workclass', 'CATEG_education', 'CATEG_marital.status', 'CATEG_occupation', 'CATEG_relationship', 'CATEG_race', 'CATEG_sex', 'CATEG_native.country']\n"
     ]
    }
   ],
   "source": [
    "print(categ_list)"
   ]
  },
  {
   "cell_type": "code",
   "execution_count": 45,
   "metadata": {},
   "outputs": [
    {
     "name": "stdout",
     "output_type": "stream",
     "text": [
      "Number of Levels in Variable CATEG_workclass => 9 Categories\n",
      "Number of Levels in Variable CATEG_education => 16 Categories\n",
      "Number of Levels in Variable CATEG_marital.status => 7 Categories\n",
      "Number of Levels in Variable CATEG_occupation => 15 Categories\n",
      "Number of Levels in Variable CATEG_relationship => 6 Categories\n",
      "Number of Levels in Variable CATEG_race => 5 Categories\n",
      "Number of Levels in Variable CATEG_sex => 2 Categories\n",
      "Number of Levels in Variable CATEG_native.country => 42 Categories\n"
     ]
    }
   ],
   "source": [
    "# levels for categorial var\n",
    "for var in categ_list:\n",
    "    print('Number of Levels in Variable {} => {} Categories'.format(df[var].name, df[var].nunique()))"
   ]
  },
  {
   "cell_type": "code",
   "execution_count": null,
   "metadata": {
    "collapsed": true
   },
   "outputs": [],
   "source": [
    "\"\"\"\n",
    "#TODO : \n",
    "1- one hot encoding all categ, CATEG_native.country grouping\n",
    "2- export categ matrix as numpy array, to have single numpy_X with all predictors\n",
    "\"\"\"\"\n"
   ]
  }
 ],
 "metadata": {
  "kernelspec": {
   "display_name": "Python 2",
   "language": "python",
   "name": "python2"
  },
  "language_info": {
   "codemirror_mode": {
    "name": "ipython",
    "version": 2
   },
   "file_extension": ".py",
   "mimetype": "text/x-python",
   "name": "python",
   "nbconvert_exporter": "python",
   "pygments_lexer": "ipython2",
   "version": "2.7.14"
  }
 },
 "nbformat": 4,
 "nbformat_minor": 2
}
